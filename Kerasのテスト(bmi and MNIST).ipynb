{
 "cells": [
  {
   "cell_type": "code",
   "execution_count": 1,
   "metadata": {},
   "outputs": [
    {
     "name": "stderr",
     "output_type": "stream",
     "text": [
      "C:\\Users\\hiroa\\Anaconda3\\envs\\py27\\lib\\site-packages\\h5py\\__init__.py:36: FutureWarning: Conversion of the second argument of issubdtype from `float` to `np.floating` is deprecated. In future, it will be treated as `np.float64 == np.dtype(float).type`.\n",
      "  from ._conv import register_converters as _register_converters\n"
     ]
    }
   ],
   "source": [
    "import tensorflow"
   ]
  },
  {
   "cell_type": "code",
   "execution_count": 2,
   "metadata": {},
   "outputs": [
    {
     "name": "stderr",
     "output_type": "stream",
     "text": [
      "Using TensorFlow backend.\n"
     ]
    }
   ],
   "source": [
    "import keras"
   ]
  },
  {
   "cell_type": "code",
   "execution_count": 6,
   "metadata": {},
   "outputs": [
    {
     "name": "stderr",
     "output_type": "stream",
     "text": [
      "C:\\Users\\hiroa\\Anaconda3\\envs\\py27\\lib\\site-packages\\ipykernel_launcher.py:11: FutureWarning: Method .as_matrix will be removed in a future version. Use .values instead.\n",
      "  # This is added back by InteractiveShellApp.init_path()\n"
     ]
    },
    {
     "name": "stdout",
     "output_type": "stream",
     "text": [
      "Train on 13500 samples, validate on 1500 samples\n",
      "Epoch 1/20\n",
      "13500/13500 [==============================] - 1s 102us/step - loss: 0.5058 - acc: 0.7990 - val_loss: 0.3544 - val_acc: 0.8413\n",
      "Epoch 2/20\n",
      "13500/13500 [==============================] - 1s 87us/step - loss: 0.2510 - acc: 0.8999 - val_loss: 0.2689 - val_acc: 0.8593\n",
      "Epoch 3/20\n",
      "13500/13500 [==============================] - 1s 89us/step - loss: 0.1909 - acc: 0.9164 - val_loss: 0.1203 - val_acc: 0.9647\n",
      "Epoch 4/20\n",
      "13500/13500 [==============================] - 1s 85us/step - loss: 0.1628 - acc: 0.9319 - val_loss: 0.1064 - val_acc: 0.9640\n",
      "Epoch 5/20\n",
      "13500/13500 [==============================] - 1s 89us/step - loss: 0.1555 - acc: 0.9307 - val_loss: 0.1106 - val_acc: 0.9520\n",
      "Epoch 6/20\n",
      "13500/13500 [==============================] - 1s 87us/step - loss: 0.1455 - acc: 0.9368 - val_loss: 0.0819 - val_acc: 0.9733\n",
      "Epoch 7/20\n",
      "13500/13500 [==============================] - 1s 90us/step - loss: 0.1347 - acc: 0.9386 - val_loss: 0.2150 - val_acc: 0.8927\n",
      "Epoch 8/20\n",
      "13500/13500 [==============================] - 1s 95us/step - loss: 0.1300 - acc: 0.9460 - val_loss: 0.0857 - val_acc: 0.9607\n",
      "Epoch 9/20\n",
      "13500/13500 [==============================] - 1s 93us/step - loss: 0.1315 - acc: 0.9444 - val_loss: 0.0984 - val_acc: 0.9493\n",
      "Epoch 10/20\n",
      "13500/13500 [==============================] - 1s 92us/step - loss: 0.1239 - acc: 0.9491 - val_loss: 0.0680 - val_acc: 0.9807\n",
      "Epoch 11/20\n",
      "13500/13500 [==============================] - 1s 99us/step - loss: 0.1198 - acc: 0.9483 - val_loss: 0.1501 - val_acc: 0.9247\n",
      "Epoch 12/20\n",
      "13500/13500 [==============================] - 1s 96us/step - loss: 0.1164 - acc: 0.9506 - val_loss: 0.1320 - val_acc: 0.9320\n",
      "Epoch 13/20\n",
      "13500/13500 [==============================] - 1s 93us/step - loss: 0.1174 - acc: 0.9486 - val_loss: 0.1292 - val_acc: 0.9320\n",
      "Epoch 14/20\n",
      "13500/13500 [==============================] - 1s 94us/step - loss: 0.1145 - acc: 0.9495 - val_loss: 0.1436 - val_acc: 0.9253\n",
      "Epoch 15/20\n",
      "13500/13500 [==============================] - 1s 93us/step - loss: 0.1111 - acc: 0.9527 - val_loss: 0.1188 - val_acc: 0.9400\n",
      "Epoch 16/20\n",
      "13500/13500 [==============================] - 1s 97us/step - loss: 0.1124 - acc: 0.9518 - val_loss: 0.0539 - val_acc: 0.9853\n",
      "Epoch 17/20\n",
      "13500/13500 [==============================] - 1s 102us/step - loss: 0.1073 - acc: 0.9539 - val_loss: 0.0768 - val_acc: 0.9587\n",
      "Epoch 18/20\n",
      "13500/13500 [==============================] - 1s 104us/step - loss: 0.1078 - acc: 0.9540 - val_loss: 0.0472 - val_acc: 0.9927\n",
      "Epoch 19/20\n",
      "13500/13500 [==============================] - 1s 102us/step - loss: 0.1072 - acc: 0.9583 - val_loss: 0.0527 - val_acc: 0.9793\n",
      "Epoch 20/20\n",
      "13500/13500 [==============================] - 1s 105us/step - loss: 0.1060 - acc: 0.9525 - val_loss: 0.0526 - val_acc: 0.9833\n",
      "4999/4999 [==============================] - 0s 54us/step\n",
      "loss= 0.054664363957543594\n",
      "accuracy= 0.9847969593918784\n"
     ]
    }
   ],
   "source": [
    "from keras.models import Sequential\n",
    "from keras.layers.core import Dense, Dropout, Activation\n",
    "from keras.callbacks import EarlyStopping\n",
    "import pandas as pd, numpy as np\n",
    "\n",
    "# BMIのデータを読み込んで正規化する --- (※1)\n",
    "csv = pd.read_csv(\"C:/Users/hiroa/Keras_test/bmi.csv\")\n",
    "# 体重と身長のデータ\n",
    "csv[\"weight\"] /= 100\n",
    "csv[\"height\"] /= 200\n",
    "X = csv[[\"weight\", \"height\"]].as_matrix() # --- (*1a)\n",
    "# ラベル\n",
    "bclass = {\"thin\":[1,0,0], \"normal\":[0,1,0], \"fat\":[0,0,1]}\n",
    "y = np.empty((20000,3))\n",
    "for i, v in enumerate(csv[\"label\"]):\n",
    "    y[i] = bclass[v]\n",
    "# 訓練データとテストデータを分ける --- (※2)\n",
    "X_train, y_train = X[1:15001], y[1:15001]\n",
    "X_test,  y_test  = X[15001:20001], y[15001:20001] \n",
    "\n",
    "\n",
    "# モデルの構造を定義 --- (※3)\n",
    "model = Sequential()\n",
    "model.add(Dense(512, input_shape=(2,)))\n",
    "model.add(Activation('relu'))\n",
    "model.add(Dropout(0.1))\n",
    "\n",
    "model.add(Dense(512))\n",
    "model.add(Activation('relu'))\n",
    "model.add(Dropout(0.1))\n",
    "\n",
    "model.add(Dense(3))\n",
    "model.add(Activation('softmax'))\n",
    "\n",
    "# モデルを構築 --- (※4)\n",
    "model.compile(\n",
    "    loss='categorical_crossentropy',\n",
    "    optimizer=\"rmsprop\",\n",
    "    metrics=['accuracy'])\n",
    "\n",
    "# データで訓練 --- (※5)\n",
    "hist = model.fit(\n",
    "    X_train, y_train,\n",
    "    batch_size=100,\n",
    "    #nb_epoch=20,\n",
    "    epochs=20,\n",
    "    validation_split=0.1,\n",
    "    callbacks=[EarlyStopping(monitor='val_loss', patience=10)],\n",
    "    verbose=1)\n",
    "\n",
    "# テストデータを用いて評価する --- (※6)\n",
    "score = model.evaluate(X_test, y_test)\n",
    "print('loss=', score[0])\n",
    "print('accuracy=', score[1])"
   ]
  },
  {
   "cell_type": "code",
   "execution_count": 9,
   "metadata": {},
   "outputs": [
    {
     "data": {
      "image/png": "[encoded data removed]",
      "text/plain": [
       "<Figure size 432x288 with 1 Axes>"
      ]
     },
     "metadata": {},
     "output_type": "display_data"
    }
   ],
   "source": [
    "import numpy as np\n",
    "import matplotlib.pyplot as plt\n",
    "\n",
    "epoch = np.arange(len(hist.history['acc']))\n",
    "\n",
    "# accuracy と validation accuracy の推移をプロットする\n",
    "plt.title('Accuracy')\n",
    "plt.ylim(0.0, 1.0)\n",
    "plt.plot(epoch, hist.history['acc'], label='train')\n",
    "plt.plot(epoch, hist.history['val_acc'], label='validation')\n",
    "plt.legend()\n",
    "plt.show()"
   ]
  },
  {
   "cell_type": "code",
   "execution_count": 10,
   "metadata": {},
   "outputs": [
    {
     "name": "stdout",
     "output_type": "stream",
     "text": [
      "x_train shape: (60000, 28, 28, 1)\n",
      "60000 train samples\n",
      "10000 test samples\n",
      "Train on 60000 samples, validate on 10000 samples\n",
      "Epoch 1/5\n",
      "60000/60000 [==============================] - 153s 3ms/step - loss: 0.2721 - acc: 0.9170 - val_loss: 0.0598 - val_acc: 0.9807\n",
      "Epoch 2/5\n",
      "60000/60000 [==============================] - 154s 3ms/step - loss: 0.0934 - acc: 0.9722 - val_loss: 0.0423 - val_acc: 0.9857\n",
      "Epoch 3/5\n",
      "60000/60000 [==============================] - 148s 2ms/step - loss: 0.0692 - acc: 0.9788 - val_loss: 0.0374 - val_acc: 0.9877\n",
      "Epoch 4/5\n",
      "60000/60000 [==============================] - 151s 3ms/step - loss: 0.0566 - acc: 0.9837 - val_loss: 0.0332 - val_acc: 0.9892\n",
      "Epoch 5/5\n",
      "60000/60000 [==============================] - 151s 3ms/step - loss: 0.0489 - acc: 0.9848 - val_loss: 0.0286 - val_acc: 0.9914\n",
      "Test loss: 0.028602575239149153\n",
      "Test accuracy: 0.9914\n"
     ]
    }
   ],
   "source": [
    "from __future__ import print_function\n",
    "import keras\n",
    "from keras.datasets import mnist\n",
    "from keras.models import Sequential\n",
    "from keras.layers import Dense, Dropout, Flatten\n",
    "from keras.layers import Conv2D, MaxPooling2D\n",
    "from keras import backend as K\n",
    "\n",
    "batch_size = 128\n",
    "num_classes = 10\n",
    "epochs = 5\n",
    "#epochs = 12\n",
    "\n",
    "# input image dimensions\n",
    "img_rows, img_cols = 28, 28\n",
    "\n",
    "# the data, shuffled and split between train and test sets\n",
    "(x_train, y_train), (x_test, y_test) = mnist.load_data()\n",
    "\n",
    "if K.image_data_format() == 'channels_first':\n",
    "    x_train = x_train.reshape(x_train.shape[0], 1, img_rows, img_cols)\n",
    "    x_test = x_test.reshape(x_test.shape[0], 1, img_rows, img_cols)\n",
    "    input_shape = (1, img_rows, img_cols)\n",
    "else:\n",
    "    x_train = x_train.reshape(x_train.shape[0], img_rows, img_cols, 1)\n",
    "    x_test = x_test.reshape(x_test.shape[0], img_rows, img_cols, 1)\n",
    "    input_shape = (img_rows, img_cols, 1)\n",
    "\n",
    "x_train = x_train.astype('float32')\n",
    "x_test = x_test.astype('float32')\n",
    "x_train /= 255\n",
    "x_test /= 255\n",
    "print('x_train shape:', x_train.shape)\n",
    "print(x_train.shape[0], 'train samples')\n",
    "print(x_test.shape[0], 'test samples')\n",
    "\n",
    "# convert class vectors to binary class matrices\n",
    "y_train = keras.utils.to_categorical(y_train, num_classes)\n",
    "y_test = keras.utils.to_categorical(y_test, num_classes)\n",
    "\n",
    "model = Sequential()\n",
    "model.add(Conv2D(32, kernel_size=(3, 3),\n",
    "                 activation='relu',\n",
    "                 input_shape=input_shape))\n",
    "model.add(Conv2D(64, (3, 3), activation='relu'))\n",
    "model.add(MaxPooling2D(pool_size=(2, 2)))\n",
    "model.add(Dropout(0.25))\n",
    "model.add(Flatten())\n",
    "model.add(Dense(128, activation='relu'))\n",
    "model.add(Dropout(0.5))\n",
    "model.add(Dense(num_classes, activation='softmax'))\n",
    "\n",
    "model.compile(loss=keras.losses.categorical_crossentropy,\n",
    "              optimizer=keras.optimizers.Adadelta(),\n",
    "              metrics=['accuracy'])\n",
    "\n",
    "model.fit(x_train, y_train,\n",
    "          batch_size=batch_size,\n",
    "          epochs=epochs,\n",
    "          verbose=1,\n",
    "          validation_data=(x_test, y_test))\n",
    "score = model.evaluate(x_test, y_test, verbose=0)\n",
    "print('Test loss:', score[0])\n",
    "print('Test accuracy:', score[1])"
   ]
  },
  {
   "cell_type": "code",
   "execution_count": null,
   "metadata": {},
   "outputs": [],
   "source": []
  }
 ],
 "metadata": {
  "kernelspec": {
   "display_name": "py27",
   "language": "python",
   "name": "py27"
  },
  "language_info": {
   "codemirror_mode": {
    "name": "ipython",
    "version": 3
   },
   "file_extension": ".py",
   "mimetype": "text/x-python",
   "name": "python",
   "nbconvert_exporter": "python",
   "pygments_lexer": "ipython3",
   "version": "3.6.5"
  }
 },
 "nbformat": 4,
 "nbformat_minor": 2
}

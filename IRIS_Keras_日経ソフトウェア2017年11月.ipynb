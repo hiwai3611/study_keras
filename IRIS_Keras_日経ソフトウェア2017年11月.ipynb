{
 "cells": [
  {
   "cell_type": "code",
   "execution_count": 1,
   "metadata": {},
   "outputs": [],
   "source": [
    "from sklearn import datasets\n",
    "iris = datasets.load_iris()"
   ]
  },
  {
   "cell_type": "code",
   "execution_count": 4,
   "metadata": {},
   "outputs": [
    {
     "name": "stdout",
     "output_type": "stream",
     "text": [
      "Iris Plants Database\n",
      "====================\n",
      "\n",
      "Notes\n",
      "-----\n",
      "Data Set Characteristics:\n",
      "    :Number of Instances: 150 (50 in each of three classes)\n",
      "    :Number of Attributes: 4 numeric, predictive attributes and the class\n",
      "    :Attribute Information:\n",
      "        - sepal length in cm\n",
      "        - sepal width in cm\n",
      "        - petal length in cm\n",
      "        - petal width in cm\n",
      "        - class:\n",
      "                - Iris-Setosa\n",
      "                - Iris-Versicolour\n",
      "                - Iris-Virginica\n",
      "    :Summary Statistics:\n",
      "\n",
      "    ============== ==== ==== ======= ===== ====================\n",
      "                    Min  Max   Mean    SD   Class Correlation\n",
      "    ============== ==== ==== ======= ===== ====================\n",
      "    sepal length:   4.3  7.9   5.84   0.83    0.7826\n",
      "    sepal width:    2.0  4.4   3.05   0.43   -0.4194\n",
      "    petal length:   1.0  6.9   3.76   1.76    0.9490  (high!)\n",
      "    petal width:    0.1  2.5   1.20  0.76     0.9565  (high!)\n",
      "    ============== ==== ==== ======= ===== ====================\n",
      "\n",
      "    :Missing Attribute Values: None\n",
      "    :Class Distribution: 33.3% for each of 3 classes.\n",
      "    :Creator: R.A. Fisher\n",
      "    :Donor: Michael Marshall (MARSHALL%PLU@io.arc.nasa.gov)\n",
      "    :Date: July, 1988\n",
      "\n",
      "This is a copy of UCI ML iris datasets.\n",
      "http://archive.ics.uci.edu/ml/datasets/Iris\n",
      "\n",
      "The famous Iris database, first used by Sir R.A Fisher\n",
      "\n",
      "This is perhaps the best known database to be found in the\n",
      "pattern recognition literature.  Fisher's paper is a classic in the field and\n",
      "is referenced frequently to this day.  (See Duda & Hart, for example.)  The\n",
      "data set contains 3 classes of 50 instances each, where each class refers to a\n",
      "type of iris plant.  One class is linearly separable from the other 2; the\n",
      "latter are NOT linearly separable from each other.\n",
      "\n",
      "References\n",
      "----------\n",
      "   - Fisher,R.A. \"The use of multiple measurements in taxonomic problems\"\n",
      "     Annual Eugenics, 7, Part II, 179-188 (1936); also in \"Contributions to\n",
      "     Mathematical Statistics\" (John Wiley, NY, 1950).\n",
      "   - Duda,R.O., & Hart,P.E. (1973) Pattern Classification and Scene Analysis.\n",
      "     (Q327.D83) John Wiley & Sons.  ISBN 0-471-22361-1.  See page 218.\n",
      "   - Dasarathy, B.V. (1980) \"Nosing Around the Neighborhood: A New System\n",
      "     Structure and Classification Rule for Recognition in Partially Exposed\n",
      "     Environments\".  IEEE Transactions on Pattern Analysis and Machine\n",
      "     Intelligence, Vol. PAMI-2, No. 1, 67-71.\n",
      "   - Gates, G.W. (1972) \"The Reduced Nearest Neighbor Rule\".  IEEE Transactions\n",
      "     on Information Theory, May 1972, 431-433.\n",
      "   - See also: 1988 MLC Proceedings, 54-64.  Cheeseman et al\"s AUTOCLASS II\n",
      "     conceptual clustering system finds 3 classes in the data.\n",
      "   - Many, many more ...\n",
      "\n"
     ]
    }
   ],
   "source": [
    "print(iris.DESCR)"
   ]
  },
  {
   "cell_type": "code",
   "execution_count": 5,
   "metadata": {},
   "outputs": [
    {
     "data": {
      "text/plain": [
       "array([[5.1, 3.5, 1.4, 0.2],\n",
       "       [4.9, 3. , 1.4, 0.2],\n",
       "       [4.7, 3.2, 1.3, 0.2],\n",
       "       [4.6, 3.1, 1.5, 0.2],\n",
       "       [5. , 3.6, 1.4, 0.2],\n",
       "       [5.4, 3.9, 1.7, 0.4],\n",
       "       [4.6, 3.4, 1.4, 0.3],\n",
       "       [5. , 3.4, 1.5, 0.2],\n",
       "       [4.4, 2.9, 1.4, 0.2],\n",
       "       [4.9, 3.1, 1.5, 0.1],\n",
       "       [5.4, 3.7, 1.5, 0.2],\n",
       "       [4.8, 3.4, 1.6, 0.2],\n",
       "       [4.8, 3. , 1.4, 0.1],\n",
       "       [4.3, 3. , 1.1, 0.1],\n",
       "       [5.8, 4. , 1.2, 0.2],\n",
       "       [5.7, 4.4, 1.5, 0.4],\n",
       "       [5.4, 3.9, 1.3, 0.4],\n",
       "       [5.1, 3.5, 1.4, 0.3],\n",
       "       [5.7, 3.8, 1.7, 0.3],\n",
       "       [5.1, 3.8, 1.5, 0.3],\n",
       "       [5.4, 3.4, 1.7, 0.2],\n",
       "       [5.1, 3.7, 1.5, 0.4],\n",
       "       [4.6, 3.6, 1. , 0.2],\n",
       "       [5.1, 3.3, 1.7, 0.5],\n",
       "       [4.8, 3.4, 1.9, 0.2],\n",
       "       [5. , 3. , 1.6, 0.2],\n",
       "       [5. , 3.4, 1.6, 0.4],\n",
       "       [5.2, 3.5, 1.5, 0.2],\n",
       "       [5.2, 3.4, 1.4, 0.2],\n",
       "       [4.7, 3.2, 1.6, 0.2],\n",
       "       [4.8, 3.1, 1.6, 0.2],\n",
       "       [5.4, 3.4, 1.5, 0.4],\n",
       "       [5.2, 4.1, 1.5, 0.1],\n",
       "       [5.5, 4.2, 1.4, 0.2],\n",
       "       [4.9, 3.1, 1.5, 0.1],\n",
       "       [5. , 3.2, 1.2, 0.2],\n",
       "       [5.5, 3.5, 1.3, 0.2],\n",
       "       [4.9, 3.1, 1.5, 0.1],\n",
       "       [4.4, 3. , 1.3, 0.2],\n",
       "       [5.1, 3.4, 1.5, 0.2],\n",
       "       [5. , 3.5, 1.3, 0.3],\n",
       "       [4.5, 2.3, 1.3, 0.3],\n",
       "       [4.4, 3.2, 1.3, 0.2],\n",
       "       [5. , 3.5, 1.6, 0.6],\n",
       "       [5.1, 3.8, 1.9, 0.4],\n",
       "       [4.8, 3. , 1.4, 0.3],\n",
       "       [5.1, 3.8, 1.6, 0.2],\n",
       "       [4.6, 3.2, 1.4, 0.2],\n",
       "       [5.3, 3.7, 1.5, 0.2],\n",
       "       [5. , 3.3, 1.4, 0.2],\n",
       "       [7. , 3.2, 4.7, 1.4],\n",
       "       [6.4, 3.2, 4.5, 1.5],\n",
       "       [6.9, 3.1, 4.9, 1.5],\n",
       "       [5.5, 2.3, 4. , 1.3],\n",
       "       [6.5, 2.8, 4.6, 1.5],\n",
       "       [5.7, 2.8, 4.5, 1.3],\n",
       "       [6.3, 3.3, 4.7, 1.6],\n",
       "       [4.9, 2.4, 3.3, 1. ],\n",
       "       [6.6, 2.9, 4.6, 1.3],\n",
       "       [5.2, 2.7, 3.9, 1.4],\n",
       "       [5. , 2. , 3.5, 1. ],\n",
       "       [5.9, 3. , 4.2, 1.5],\n",
       "       [6. , 2.2, 4. , 1. ],\n",
       "       [6.1, 2.9, 4.7, 1.4],\n",
       "       [5.6, 2.9, 3.6, 1.3],\n",
       "       [6.7, 3.1, 4.4, 1.4],\n",
       "       [5.6, 3. , 4.5, 1.5],\n",
       "       [5.8, 2.7, 4.1, 1. ],\n",
       "       [6.2, 2.2, 4.5, 1.5],\n",
       "       [5.6, 2.5, 3.9, 1.1],\n",
       "       [5.9, 3.2, 4.8, 1.8],\n",
       "       [6.1, 2.8, 4. , 1.3],\n",
       "       [6.3, 2.5, 4.9, 1.5],\n",
       "       [6.1, 2.8, 4.7, 1.2],\n",
       "       [6.4, 2.9, 4.3, 1.3],\n",
       "       [6.6, 3. , 4.4, 1.4],\n",
       "       [6.8, 2.8, 4.8, 1.4],\n",
       "       [6.7, 3. , 5. , 1.7],\n",
       "       [6. , 2.9, 4.5, 1.5],\n",
       "       [5.7, 2.6, 3.5, 1. ],\n",
       "       [5.5, 2.4, 3.8, 1.1],\n",
       "       [5.5, 2.4, 3.7, 1. ],\n",
       "       [5.8, 2.7, 3.9, 1.2],\n",
       "       [6. , 2.7, 5.1, 1.6],\n",
       "       [5.4, 3. , 4.5, 1.5],\n",
       "       [6. , 3.4, 4.5, 1.6],\n",
       "       [6.7, 3.1, 4.7, 1.5],\n",
       "       [6.3, 2.3, 4.4, 1.3],\n",
       "       [5.6, 3. , 4.1, 1.3],\n",
       "       [5.5, 2.5, 4. , 1.3],\n",
       "       [5.5, 2.6, 4.4, 1.2],\n",
       "       [6.1, 3. , 4.6, 1.4],\n",
       "       [5.8, 2.6, 4. , 1.2],\n",
       "       [5. , 2.3, 3.3, 1. ],\n",
       "       [5.6, 2.7, 4.2, 1.3],\n",
       "       [5.7, 3. , 4.2, 1.2],\n",
       "       [5.7, 2.9, 4.2, 1.3],\n",
       "       [6.2, 2.9, 4.3, 1.3],\n",
       "       [5.1, 2.5, 3. , 1.1],\n",
       "       [5.7, 2.8, 4.1, 1.3],\n",
       "       [6.3, 3.3, 6. , 2.5],\n",
       "       [5.8, 2.7, 5.1, 1.9],\n",
       "       [7.1, 3. , 5.9, 2.1],\n",
       "       [6.3, 2.9, 5.6, 1.8],\n",
       "       [6.5, 3. , 5.8, 2.2],\n",
       "       [7.6, 3. , 6.6, 2.1],\n",
       "       [4.9, 2.5, 4.5, 1.7],\n",
       "       [7.3, 2.9, 6.3, 1.8],\n",
       "       [6.7, 2.5, 5.8, 1.8],\n",
       "       [7.2, 3.6, 6.1, 2.5],\n",
       "       [6.5, 3.2, 5.1, 2. ],\n",
       "       [6.4, 2.7, 5.3, 1.9],\n",
       "       [6.8, 3. , 5.5, 2.1],\n",
       "       [5.7, 2.5, 5. , 2. ],\n",
       "       [5.8, 2.8, 5.1, 2.4],\n",
       "       [6.4, 3.2, 5.3, 2.3],\n",
       "       [6.5, 3. , 5.5, 1.8],\n",
       "       [7.7, 3.8, 6.7, 2.2],\n",
       "       [7.7, 2.6, 6.9, 2.3],\n",
       "       [6. , 2.2, 5. , 1.5],\n",
       "       [6.9, 3.2, 5.7, 2.3],\n",
       "       [5.6, 2.8, 4.9, 2. ],\n",
       "       [7.7, 2.8, 6.7, 2. ],\n",
       "       [6.3, 2.7, 4.9, 1.8],\n",
       "       [6.7, 3.3, 5.7, 2.1],\n",
       "       [7.2, 3.2, 6. , 1.8],\n",
       "       [6.2, 2.8, 4.8, 1.8],\n",
       "       [6.1, 3. , 4.9, 1.8],\n",
       "       [6.4, 2.8, 5.6, 2.1],\n",
       "       [7.2, 3. , 5.8, 1.6],\n",
       "       [7.4, 2.8, 6.1, 1.9],\n",
       "       [7.9, 3.8, 6.4, 2. ],\n",
       "       [6.4, 2.8, 5.6, 2.2],\n",
       "       [6.3, 2.8, 5.1, 1.5],\n",
       "       [6.1, 2.6, 5.6, 1.4],\n",
       "       [7.7, 3. , 6.1, 2.3],\n",
       "       [6.3, 3.4, 5.6, 2.4],\n",
       "       [6.4, 3.1, 5.5, 1.8],\n",
       "       [6. , 3. , 4.8, 1.8],\n",
       "       [6.9, 3.1, 5.4, 2.1],\n",
       "       [6.7, 3.1, 5.6, 2.4],\n",
       "       [6.9, 3.1, 5.1, 2.3],\n",
       "       [5.8, 2.7, 5.1, 1.9],\n",
       "       [6.8, 3.2, 5.9, 2.3],\n",
       "       [6.7, 3.3, 5.7, 2.5],\n",
       "       [6.7, 3. , 5.2, 2.3],\n",
       "       [6.3, 2.5, 5. , 1.9],\n",
       "       [6.5, 3. , 5.2, 2. ],\n",
       "       [6.2, 3.4, 5.4, 2.3],\n",
       "       [5.9, 3. , 5.1, 1.8]])"
      ]
     },
     "execution_count": 5,
     "metadata": {},
     "output_type": "execute_result"
    }
   ],
   "source": [
    "iris.data"
   ]
  },
  {
   "cell_type": "code",
   "execution_count": 3,
   "metadata": {},
   "outputs": [
    {
     "data": {
      "text/plain": [
       "array([0, 0, 0, 0, 0, 0, 0, 0, 0, 0, 0, 0, 0, 0, 0, 0, 0, 0, 0, 0, 0, 0,\n",
       "       0, 0, 0, 0, 0, 0, 0, 0, 0, 0, 0, 0, 0, 0, 0, 0, 0, 0, 0, 0, 0, 0,\n",
       "       0, 0, 0, 0, 0, 0, 1, 1, 1, 1, 1, 1, 1, 1, 1, 1, 1, 1, 1, 1, 1, 1,\n",
       "       1, 1, 1, 1, 1, 1, 1, 1, 1, 1, 1, 1, 1, 1, 1, 1, 1, 1, 1, 1, 1, 1,\n",
       "       1, 1, 1, 1, 1, 1, 1, 1, 1, 1, 1, 1, 2, 2, 2, 2, 2, 2, 2, 2, 2, 2,\n",
       "       2, 2, 2, 2, 2, 2, 2, 2, 2, 2, 2, 2, 2, 2, 2, 2, 2, 2, 2, 2, 2, 2,\n",
       "       2, 2, 2, 2, 2, 2, 2, 2, 2, 2, 2, 2, 2, 2, 2, 2, 2, 2])"
      ]
     },
     "execution_count": 3,
     "metadata": {},
     "output_type": "execute_result"
    }
   ],
   "source": [
    "iris.target"
   ]
  },
  {
   "cell_type": "code",
   "execution_count": 6,
   "metadata": {},
   "outputs": [
    {
     "name": "stderr",
     "output_type": "stream",
     "text": [
      "C:\\Users\\hiroa\\Anaconda3\\envs\\py27\\lib\\site-packages\\sklearn\\model_selection\\_split.py:2026: FutureWarning: From version 0.21, test_size will always complement train_size unless both are specified.\n",
      "  FutureWarning)\n"
     ]
    }
   ],
   "source": [
    "from sklearn.model_selection import train_test_split as split\n",
    "X_train, X_test, y_train, y_test = split(iris.data, iris.target, train_size=0.8)"
   ]
  },
  {
   "cell_type": "code",
   "execution_count": 7,
   "metadata": {},
   "outputs": [
    {
     "name": "stderr",
     "output_type": "stream",
     "text": [
      "C:\\Users\\hiroa\\Anaconda3\\envs\\py27\\lib\\site-packages\\h5py\\__init__.py:36: FutureWarning: Conversion of the second argument of issubdtype from `float` to `np.floating` is deprecated. In future, it will be treated as `np.float64 == np.dtype(float).type`.\n",
      "  from ._conv import register_converters as _register_converters\n",
      "Using TensorFlow backend.\n"
     ]
    }
   ],
   "source": [
    "import keras\n",
    "from keras.layers import Dense, Activation"
   ]
  },
  {
   "cell_type": "code",
   "execution_count": 8,
   "metadata": {},
   "outputs": [
    {
     "name": "stdout",
     "output_type": "stream",
     "text": [
      "Epoch 1/100\n",
      "120/120 [==============================] - 0s 2ms/step - loss: 1.0708 - acc: 0.6000\n",
      "Epoch 2/100\n",
      "120/120 [==============================] - 0s 75us/step - loss: 0.8095 - acc: 0.8250\n",
      "Epoch 3/100\n",
      "120/120 [==============================] - 0s 75us/step - loss: 0.7621 - acc: 0.8000\n",
      "Epoch 4/100\n",
      "120/120 [==============================] - 0s 67us/step - loss: 0.7333 - acc: 0.7000\n",
      "Epoch 5/100\n",
      "120/120 [==============================] - 0s 133us/step - loss: 0.7168 - acc: 0.7333\n",
      "Epoch 6/100\n",
      "120/120 [==============================] - 0s 92us/step - loss: 0.6944 - acc: 0.7250\n",
      "Epoch 7/100\n",
      "120/120 [==============================] - 0s 75us/step - loss: 0.6812 - acc: 0.7417\n",
      "Epoch 8/100\n",
      "120/120 [==============================] - 0s 100us/step - loss: 0.6605 - acc: 0.8750\n",
      "Epoch 9/100\n",
      "120/120 [==============================] - 0s 75us/step - loss: 0.6476 - acc: 0.7083\n",
      "Epoch 10/100\n",
      "120/120 [==============================] - 0s 50us/step - loss: 0.6380 - acc: 0.7333\n",
      "Epoch 11/100\n",
      "120/120 [==============================] - 0s 75us/step - loss: 0.6248 - acc: 0.7250\n",
      "Epoch 12/100\n",
      "120/120 [==============================] - 0s 58us/step - loss: 0.6080 - acc: 0.7000\n",
      "Epoch 13/100\n",
      "120/120 [==============================] - 0s 50us/step - loss: 0.5970 - acc: 0.8583\n",
      "Epoch 14/100\n",
      "120/120 [==============================] - 0s 100us/step - loss: 0.5859 - acc: 0.7000\n",
      "Epoch 15/100\n",
      "120/120 [==============================] - 0s 58us/step - loss: 0.5765 - acc: 0.7917\n",
      "Epoch 16/100\n",
      "120/120 [==============================] - 0s 67us/step - loss: 0.5740 - acc: 0.7583\n",
      "Epoch 17/100\n",
      "120/120 [==============================] - 0s 108us/step - loss: 0.5603 - acc: 0.9000\n",
      "Epoch 18/100\n",
      "120/120 [==============================] - 0s 75us/step - loss: 0.5504 - acc: 0.8083\n",
      "Epoch 19/100\n",
      "120/120 [==============================] - 0s 92us/step - loss: 0.5450 - acc: 0.8667\n",
      "Epoch 20/100\n",
      "120/120 [==============================] - 0s 84us/step - loss: 0.5405 - acc: 0.7250\n",
      "Epoch 21/100\n",
      "120/120 [==============================] - 0s 92us/step - loss: 0.5312 - acc: 0.9333\n",
      "Epoch 22/100\n",
      "120/120 [==============================] - 0s 67us/step - loss: 0.5198 - acc: 0.7333\n",
      "Epoch 23/100\n",
      "120/120 [==============================] - 0s 108us/step - loss: 0.5138 - acc: 0.8333\n",
      "Epoch 24/100\n",
      "120/120 [==============================] - 0s 92us/step - loss: 0.5057 - acc: 0.9250\n",
      "Epoch 25/100\n",
      "120/120 [==============================] - 0s 50us/step - loss: 0.5094 - acc: 0.8500\n",
      "Epoch 26/100\n",
      "120/120 [==============================] - 0s 108us/step - loss: 0.4944 - acc: 0.8250\n",
      "Epoch 27/100\n",
      "120/120 [==============================] - 0s 100us/step - loss: 0.4940 - acc: 0.8750\n",
      "Epoch 28/100\n",
      "120/120 [==============================] - 0s 100us/step - loss: 0.4872 - acc: 0.8750\n",
      "Epoch 29/100\n",
      "120/120 [==============================] - 0s 83us/step - loss: 0.4785 - acc: 0.8500\n",
      "Epoch 30/100\n",
      "120/120 [==============================] - 0s 50us/step - loss: 0.4784 - acc: 0.8833\n",
      "Epoch 31/100\n",
      "120/120 [==============================] - 0s 92us/step - loss: 0.4710 - acc: 0.9167\n",
      "Epoch 32/100\n",
      "120/120 [==============================] - 0s 67us/step - loss: 0.4652 - acc: 0.8250\n",
      "Epoch 33/100\n",
      "120/120 [==============================] - 0s 92us/step - loss: 0.4625 - acc: 0.9000\n",
      "Epoch 34/100\n",
      "120/120 [==============================] - 0s 67us/step - loss: 0.4571 - acc: 0.9000\n",
      "Epoch 35/100\n",
      "120/120 [==============================] - 0s 83us/step - loss: 0.4538 - acc: 0.9333\n",
      "Epoch 36/100\n",
      "120/120 [==============================] - 0s 67us/step - loss: 0.4490 - acc: 0.9250\n",
      "Epoch 37/100\n",
      "120/120 [==============================] - 0s 108us/step - loss: 0.4439 - acc: 0.8667\n",
      "Epoch 38/100\n",
      "120/120 [==============================] - 0s 100us/step - loss: 0.4407 - acc: 0.9333\n",
      "Epoch 39/100\n",
      "120/120 [==============================] - 0s 83us/step - loss: 0.4377 - acc: 0.9167\n",
      "Epoch 40/100\n",
      "120/120 [==============================] - 0s 67us/step - loss: 0.4367 - acc: 0.8833\n",
      "Epoch 41/100\n",
      "120/120 [==============================] - 0s 92us/step - loss: 0.4315 - acc: 0.9417\n",
      "Epoch 42/100\n",
      "120/120 [==============================] - 0s 66us/step - loss: 0.4271 - acc: 0.9500\n",
      "Epoch 43/100\n",
      "120/120 [==============================] - 0s 83us/step - loss: 0.4312 - acc: 0.8917\n",
      "Epoch 44/100\n",
      "120/120 [==============================] - 0s 83us/step - loss: 0.4261 - acc: 0.9583\n",
      "Epoch 45/100\n",
      "120/120 [==============================] - 0s 117us/step - loss: 0.4281 - acc: 0.9333\n",
      "Epoch 46/100\n",
      "120/120 [==============================] - 0s 67us/step - loss: 0.4160 - acc: 0.8917\n",
      "Epoch 47/100\n",
      "120/120 [==============================] - 0s 58us/step - loss: 0.4171 - acc: 0.9333\n",
      "Epoch 48/100\n",
      "120/120 [==============================] - 0s 75us/step - loss: 0.4093 - acc: 0.8917\n",
      "Epoch 49/100\n",
      "120/120 [==============================] - 0s 92us/step - loss: 0.4097 - acc: 0.9333\n",
      "Epoch 50/100\n",
      "120/120 [==============================] - 0s 67us/step - loss: 0.4078 - acc: 0.9167\n",
      "Epoch 51/100\n",
      "120/120 [==============================] - 0s 67us/step - loss: 0.4030 - acc: 0.9417\n",
      "Epoch 52/100\n",
      "120/120 [==============================] - 0s 108us/step - loss: 0.3969 - acc: 0.9333\n",
      "Epoch 53/100\n",
      "120/120 [==============================] - 0s 67us/step - loss: 0.4015 - acc: 0.9083\n",
      "Epoch 54/100\n",
      "120/120 [==============================] - 0s 100us/step - loss: 0.3938 - acc: 0.9000\n",
      "Epoch 55/100\n",
      "120/120 [==============================] - 0s 75us/step - loss: 0.3892 - acc: 0.9500\n",
      "Epoch 56/100\n",
      "120/120 [==============================] - 0s 67us/step - loss: 0.3884 - acc: 0.9583\n",
      "Epoch 57/100\n",
      "120/120 [==============================] - 0s 125us/step - loss: 0.3843 - acc: 0.9500\n",
      "Epoch 58/100\n",
      "120/120 [==============================] - 0s 67us/step - loss: 0.3825 - acc: 0.9500\n",
      "Epoch 59/100\n",
      "120/120 [==============================] - 0s 108us/step - loss: 0.3838 - acc: 0.9583\n",
      "Epoch 60/100\n",
      "120/120 [==============================] - 0s 50us/step - loss: 0.3773 - acc: 0.9417\n",
      "Epoch 61/100\n",
      "120/120 [==============================] - 0s 83us/step - loss: 0.3790 - acc: 0.9333\n",
      "Epoch 62/100\n",
      "120/120 [==============================] - 0s 75us/step - loss: 0.3868 - acc: 0.9250\n",
      "Epoch 63/100\n",
      "120/120 [==============================] - 0s 67us/step - loss: 0.3702 - acc: 0.9417\n",
      "Epoch 64/100\n",
      "120/120 [==============================] - 0s 100us/step - loss: 0.3679 - acc: 0.9583\n",
      "Epoch 65/100\n",
      "120/120 [==============================] - 0s 92us/step - loss: 0.3648 - acc: 0.9583\n",
      "Epoch 66/100\n",
      "120/120 [==============================] - 0s 92us/step - loss: 0.3741 - acc: 0.8917\n",
      "Epoch 67/100\n",
      "120/120 [==============================] - 0s 67us/step - loss: 0.3635 - acc: 0.9500\n",
      "Epoch 68/100\n",
      "120/120 [==============================] - 0s 83us/step - loss: 0.3632 - acc: 0.9500\n",
      "Epoch 69/100\n",
      "120/120 [==============================] - 0s 142us/step - loss: 0.3605 - acc: 0.9333\n",
      "Epoch 70/100\n",
      "120/120 [==============================] - 0s 83us/step - loss: 0.3570 - acc: 0.9583\n",
      "Epoch 71/100\n",
      "120/120 [==============================] - 0s 92us/step - loss: 0.3539 - acc: 0.9583\n",
      "Epoch 72/100\n",
      "120/120 [==============================] - 0s 67us/step - loss: 0.3522 - acc: 0.9500\n",
      "Epoch 73/100\n",
      "120/120 [==============================] - 0s 75us/step - loss: 0.3503 - acc: 0.9667\n",
      "Epoch 74/100\n",
      "120/120 [==============================] - 0s 117us/step - loss: 0.3501 - acc: 0.9500\n",
      "Epoch 75/100\n",
      "120/120 [==============================] - 0s 108us/step - loss: 0.3449 - acc: 0.9583\n",
      "Epoch 76/100\n",
      "120/120 [==============================] - 0s 67us/step - loss: 0.3434 - acc: 0.9583\n",
      "Epoch 77/100\n",
      "120/120 [==============================] - 0s 75us/step - loss: 0.3444 - acc: 0.9417\n",
      "Epoch 78/100\n",
      "120/120 [==============================] - 0s 83us/step - loss: 0.3390 - acc: 0.9583\n",
      "Epoch 79/100\n",
      "120/120 [==============================] - 0s 58us/step - loss: 0.3371 - acc: 0.9500\n",
      "Epoch 80/100\n",
      "120/120 [==============================] - 0s 75us/step - loss: 0.3428 - acc: 0.9583\n",
      "Epoch 81/100\n",
      "120/120 [==============================] - 0s 75us/step - loss: 0.3345 - acc: 0.9583\n",
      "Epoch 82/100\n",
      "120/120 [==============================] - 0s 50us/step - loss: 0.3319 - acc: 0.9750\n",
      "Epoch 83/100\n",
      "120/120 [==============================] - 0s 50us/step - loss: 0.3324 - acc: 0.9667\n",
      "Epoch 84/100\n"
     ]
    },
    {
     "name": "stdout",
     "output_type": "stream",
     "text": [
      "120/120 [==============================] - 0s 50us/step - loss: 0.3290 - acc: 0.9500\n",
      "Epoch 85/100\n",
      "120/120 [==============================] - 0s 50us/step - loss: 0.3258 - acc: 0.9667\n",
      "Epoch 86/100\n",
      "120/120 [==============================] - 0s 42us/step - loss: 0.3291 - acc: 0.9583\n",
      "Epoch 87/100\n",
      "120/120 [==============================] - 0s 50us/step - loss: 0.3226 - acc: 0.9250\n",
      "Epoch 88/100\n",
      "120/120 [==============================] - 0s 42us/step - loss: 0.3294 - acc: 0.9500\n",
      "Epoch 89/100\n",
      "120/120 [==============================] - 0s 42us/step - loss: 0.3184 - acc: 0.9583\n",
      "Epoch 90/100\n",
      "120/120 [==============================] - 0s 42us/step - loss: 0.3207 - acc: 0.9667\n",
      "Epoch 91/100\n",
      "120/120 [==============================] - 0s 50us/step - loss: 0.3149 - acc: 0.9667\n",
      "Epoch 92/100\n",
      "120/120 [==============================] - 0s 50us/step - loss: 0.3138 - acc: 0.9667\n",
      "Epoch 93/100\n",
      "120/120 [==============================] - 0s 42us/step - loss: 0.3107 - acc: 0.9583\n",
      "Epoch 94/100\n",
      "120/120 [==============================] - 0s 50us/step - loss: 0.3135 - acc: 0.9583\n",
      "Epoch 95/100\n",
      "120/120 [==============================] - 0s 50us/step - loss: 0.3079 - acc: 0.9750\n",
      "Epoch 96/100\n",
      "120/120 [==============================] - 0s 42us/step - loss: 0.3097 - acc: 0.9667\n",
      "Epoch 97/100\n",
      "120/120 [==============================] - 0s 58us/step - loss: 0.3084 - acc: 0.9500\n",
      "Epoch 98/100\n",
      "120/120 [==============================] - 0s 42us/step - loss: 0.3044 - acc: 0.9583\n",
      "Epoch 99/100\n",
      "120/120 [==============================] - 0s 42us/step - loss: 0.3019 - acc: 0.9667\n",
      "Epoch 100/100\n",
      "120/120 [==============================] - 0s 50us/step - loss: 0.3000 - acc: 0.9583\n"
     ]
    },
    {
     "data": {
      "text/plain": [
       "<keras.callbacks.History at 0x190fdaeae80>"
      ]
     },
     "execution_count": 8,
     "metadata": {},
     "output_type": "execute_result"
    }
   ],
   "source": [
    "# 入力層：4、隠れ層：32、出力層：3(0～2)\n",
    "model = keras.models.Sequential()\n",
    "model.add(Dense(units=32, input_dim=4))\n",
    "model.add(Activation('relu'))\n",
    "model.add(Dense(units=3))\n",
    "model.add(Activation('softmax')) \n",
    "model.compile(loss='sparse_categorical_crossentropy', optimizer='sgd', metrics=['accuracy'])\n",
    "\n",
    "model.fit(X_train, y_train, epochs=100)"
   ]
  },
  {
   "cell_type": "code",
   "execution_count": 9,
   "metadata": {},
   "outputs": [
    {
     "name": "stdout",
     "output_type": "stream",
     "text": [
      "30/30 [==============================] - 0s 2ms/step\n",
      "正解率(accuracy)= 0.9666666666666667\n"
     ]
    }
   ],
   "source": [
    "score = model.evaluate(X_test, y_test, batch_size = 1)\n",
    "print(\"正解率(accuracy)=\", score[1])"
   ]
  },
  {
   "cell_type": "markdown",
   "metadata": {},
   "source": [
    "それぞれのラベルに分類できる確率"
   ]
  },
  {
   "cell_type": "code",
   "execution_count": 9,
   "metadata": {},
   "outputs": [
    {
     "data": {
      "text/plain": [
       "array([[0.9502326 , 0.0455646 , 0.00420278]], dtype=float32)"
      ]
     },
     "execution_count": 9,
     "metadata": {},
     "output_type": "execute_result"
    }
   ],
   "source": [
    "import numpy as np\n",
    "x = np.array([[5.1, 3.5, 1.4, 0.2]])\n",
    "r = model.predict(x)\n",
    "r"
   ]
  },
  {
   "cell_type": "markdown",
   "metadata": {},
   "source": [
    "どのラベルの確率が高いか"
   ]
  },
  {
   "cell_type": "code",
   "execution_count": 10,
   "metadata": {},
   "outputs": [
    {
     "data": {
      "text/plain": [
       "0"
      ]
     },
     "execution_count": 10,
     "metadata": {},
     "output_type": "execute_result"
    }
   ],
   "source": [
    "r.argmax()"
   ]
  }
 ],
 "metadata": {
  "kernelspec": {
   "display_name": "py27",
   "language": "python",
   "name": "py27"
  },
  "language_info": {
   "codemirror_mode": {
    "name": "ipython",
    "version": 3
   },
   "file_extension": ".py",
   "mimetype": "text/x-python",
   "name": "python",
   "nbconvert_exporter": "python",
   "pygments_lexer": "ipython3",
   "version": "3.6.5"
  }
 },
 "nbformat": 4,
 "nbformat_minor": 2
}
